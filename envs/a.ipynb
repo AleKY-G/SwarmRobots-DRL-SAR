{
 "cells": [
  {
   "cell_type": "markdown",
   "metadata": {},
   "source": [
    "File to test things on the fly."
   ]
  },
  {
   "cell_type": "code",
   "execution_count": 1,
   "metadata": {},
   "outputs": [],
   "source": [
    "import numpy as np"
   ]
  },
  {
   "cell_type": "code",
   "execution_count": 9,
   "metadata": {},
   "outputs": [
    {
     "data": {
      "text/plain": [
       "([[1, 1], [1, 1]], (2, 2))"
      ]
     },
     "execution_count": 9,
     "metadata": {},
     "output_type": "execute_result"
    }
   ],
   "source": [
    "a = [np.array([[1,1],[1,1]]), [1,1]]\n",
    "\n",
    "p = list(map(list,a[0]))\n",
    "c = np.array(a[1])\n",
    "\n",
    "p, a[0].shape"
   ]
  },
  {
   "cell_type": "code",
   "execution_count": 3,
   "metadata": {},
   "outputs": [
    {
     "data": {
      "text/plain": [
       "array([[ 9.12403947, 10.17332682, 10.93141921,  9.22565808,  9.41515302,\n",
       "        10.89080153, 11.22312317,  8.42573164],\n",
       "       [ 8.23558338,  9.90446879,  9.69413595, 12.85030934, 10.6637782 ,\n",
       "        10.98642227, 10.76297874,  9.83760039],\n",
       "       [ 9.55048646, 10.58567911,  8.34955856,  9.08304453, 11.76654712,\n",
       "         9.47247939,  9.96522488,  9.18836142],\n",
       "       [ 8.09651798, 10.85068453,  9.27768553,  9.42496871, 10.25247459,\n",
       "        11.03551818,  9.8669004 ,  9.5401783 ],\n",
       "       [10.71274069,  8.7448196 , 10.11705853, 11.10208026,  8.66818569,\n",
       "         9.71677023, 11.50665176,  9.75462603],\n",
       "       [ 9.95892591, 10.07670061, 11.37141947,  8.92825433,  9.71773573,\n",
       "        11.67052258, 10.22101542,  9.55339877]])"
      ]
     },
     "execution_count": 3,
     "metadata": {},
     "output_type": "execute_result"
    }
   ],
   "source": [
    "a = np.random.randn(6,8) + 10\n",
    "a"
   ]
  },
  {
   "cell_type": "code",
   "execution_count": 15,
   "metadata": {},
   "outputs": [
    {
     "data": {
      "text/plain": [
       "(array([11.22312317, 12.85030934, 11.76654712, 11.03551818, 11.50665176,\n",
       "        11.67052258]),\n",
       " array([8.42573164, 8.23558338, 8.34955856, 8.09651798, 8.66818569,\n",
       "        8.92825433]))"
      ]
     },
     "execution_count": 15,
     "metadata": {},
     "output_type": "execute_result"
    }
   ],
   "source": [
    "max = np.max(a,axis = 1)\n",
    "min = np.min(a, axis = 1)\n",
    "\n",
    "max,min"
   ]
  },
  {
   "cell_type": "code",
   "execution_count": 24,
   "metadata": {},
   "outputs": [
    {
     "data": {
      "text/plain": [
       "array([[0.69830782, 1.74759518, 2.50568757, 0.79992643, 0.98942137,\n",
       "        2.46506989, 2.79739153, 0.        ],\n",
       "       [0.        , 1.66888541, 1.45855257, 4.61472596, 2.42819483,\n",
       "        2.75083889, 2.52739537, 1.60201701],\n",
       "       [1.2009279 , 2.23612054, 0.        , 0.73348597, 3.41698855,\n",
       "        1.12292082, 1.61566632, 0.83880286],\n",
       "       [0.        , 2.75416656, 1.18116755, 1.32845073, 2.15595661,\n",
       "        2.9390002 , 1.77038242, 1.44366032],\n",
       "       [2.044555  , 0.0766339 , 1.44887284, 2.43389457, 0.        ,\n",
       "        1.04858453, 2.83846607, 1.08644034],\n",
       "       [1.03067158, 1.14844628, 2.44316514, 0.        , 0.78948141,\n",
       "        2.74226825, 1.2927611 , 0.62514444]])"
      ]
     },
     "execution_count": 24,
     "metadata": {},
     "output_type": "execute_result"
    }
   ],
   "source": [
    "a - min[:,None]"
   ]
  },
  {
   "cell_type": "code",
   "execution_count": 27,
   "metadata": {},
   "outputs": [
    {
     "data": {
      "text/plain": [
       "array([[0.2496282 , 0.62472313, 0.89572287, 0.28595441, 0.35369428,\n",
       "        0.88120303, 1.        , 0.        ],\n",
       "       [0.        , 0.36164345, 0.31606483, 1.        , 0.52618397,\n",
       "        0.59610016, 0.54768049, 0.34715323],\n",
       "       [0.35145798, 0.65441265, 0.        , 0.2146586 , 1.        ,\n",
       "        0.32862879, 0.4728334 , 0.24548015],\n",
       "       [0.        , 0.93711003, 0.40189434, 0.4520077 , 0.73356804,\n",
       "        1.        , 0.60237574, 0.49120797],\n",
       "       [0.72030278, 0.02699835, 0.51044219, 0.85746826, 0.        ,\n",
       "        0.36941944, 1.        , 0.38275615],\n",
       "       [0.37584638, 0.41879429, 0.89092858, 0.        , 0.28789357,\n",
       "        1.        , 0.47142036, 0.22796619]])"
      ]
     },
     "execution_count": 27,
     "metadata": {},
     "output_type": "execute_result"
    }
   ],
   "source": [
    "new_a = (a-min[:,None]) / (max[:,None] - min[:,None])\n",
    "new_a"
   ]
  },
  {
   "cell_type": "code",
   "execution_count": 28,
   "metadata": {},
   "outputs": [
    {
     "data": {
      "text/plain": [
       "(array([ 9.12403947, 10.17332682, 10.93141921,  9.22565808,  9.41515302,\n",
       "        10.89080153, 11.22312317,  8.42573164]),\n",
       " array([0.2496282 , 0.62472313, 0.89572287, 0.28595441, 0.35369428,\n",
       "        0.88120303, 1.        , 0.        ]))"
      ]
     },
     "execution_count": 28,
     "metadata": {},
     "output_type": "execute_result"
    }
   ],
   "source": [
    "a[0], new_a[0]"
   ]
  },
  {
   "cell_type": "code",
   "execution_count": 1,
   "metadata": {},
   "outputs": [],
   "source": [
    "import torch"
   ]
  },
  {
   "cell_type": "code",
   "execution_count": 28,
   "metadata": {},
   "outputs": [],
   "source": [
    "a = torch.randn(64,7)\n",
    "b = torch.randint(0,7, size=(64,1))"
   ]
  },
  {
   "cell_type": "code",
   "execution_count": 29,
   "metadata": {},
   "outputs": [
    {
     "data": {
      "text/plain": [
       "(tensor([-1.2238,  1.2308, -0.2277, -0.7032, -0.1414,  0.0143,  0.7858]),\n",
       " tensor([0]))"
      ]
     },
     "execution_count": 29,
     "metadata": {},
     "output_type": "execute_result"
    }
   ],
   "source": [
    "a[0],b[0]"
   ]
  },
  {
   "cell_type": "code",
   "execution_count": 30,
   "metadata": {},
   "outputs": [
    {
     "data": {
      "text/plain": [
       "(tensor([-2.6483,  1.1874,  0.8682,  0.0838,  0.3882,  0.3929, -0.5825]),\n",
       " tensor([1]))"
      ]
     },
     "execution_count": 30,
     "metadata": {},
     "output_type": "execute_result"
    }
   ],
   "source": [
    "a[1],b[1]"
   ]
  },
  {
   "cell_type": "code",
   "execution_count": 31,
   "metadata": {},
   "outputs": [
    {
     "data": {
      "text/plain": [
       "(tensor([-0.0916,  0.3467, -0.1074, -0.3159, -1.0858,  1.0249,  1.1210]),\n",
       " tensor([2]))"
      ]
     },
     "execution_count": 31,
     "metadata": {},
     "output_type": "execute_result"
    }
   ],
   "source": [
    "a[2],b[2]"
   ]
  },
  {
   "cell_type": "code",
   "execution_count": 34,
   "metadata": {},
   "outputs": [
    {
     "data": {
      "text/plain": [
       "tensor([[-1.2238],\n",
       "        [ 1.1874],\n",
       "        [-0.1074],\n",
       "        [ 0.2678],\n",
       "        [-0.7159],\n",
       "        [-0.9298],\n",
       "        [-0.2703],\n",
       "        [ 1.0851],\n",
       "        [-1.5917],\n",
       "        [-0.2241],\n",
       "        [ 0.8993],\n",
       "        [-0.9919],\n",
       "        [-0.4135],\n",
       "        [ 1.0660],\n",
       "        [-0.1093],\n",
       "        [-1.5996],\n",
       "        [ 0.5650],\n",
       "        [ 0.2610],\n",
       "        [ 0.3091],\n",
       "        [ 1.1715],\n",
       "        [ 2.3381],\n",
       "        [ 1.3949],\n",
       "        [-0.3272],\n",
       "        [ 0.3385],\n",
       "        [-0.2498],\n",
       "        [ 0.1812],\n",
       "        [-0.9771],\n",
       "        [-1.0710],\n",
       "        [-0.7543],\n",
       "        [ 0.7212],\n",
       "        [-2.1042],\n",
       "        [-0.3201],\n",
       "        [-2.4340],\n",
       "        [-0.9906],\n",
       "        [ 2.2444],\n",
       "        [ 0.0711],\n",
       "        [ 0.1971],\n",
       "        [ 0.6631],\n",
       "        [-0.6262],\n",
       "        [ 0.6965],\n",
       "        [-1.1361],\n",
       "        [ 0.6038],\n",
       "        [ 0.7751],\n",
       "        [-0.2128],\n",
       "        [ 0.2715],\n",
       "        [ 1.0326],\n",
       "        [ 1.3519],\n",
       "        [-0.0410],\n",
       "        [-0.8818],\n",
       "        [-0.5183],\n",
       "        [ 1.7668],\n",
       "        [ 0.8058],\n",
       "        [ 3.0561],\n",
       "        [ 1.7561],\n",
       "        [-0.3826],\n",
       "        [-0.4033],\n",
       "        [-0.2928],\n",
       "        [-1.2395],\n",
       "        [-0.2706],\n",
       "        [ 0.8103],\n",
       "        [ 1.2128],\n",
       "        [ 0.1198],\n",
       "        [-0.0078],\n",
       "        [ 0.2621]])"
      ]
     },
     "execution_count": 34,
     "metadata": {},
     "output_type": "execute_result"
    }
   ],
   "source": [
    "a.gather(1,b)"
   ]
  },
  {
   "cell_type": "code",
   "execution_count": null,
   "metadata": {},
   "outputs": [],
   "source": []
  }
 ],
 "metadata": {
  "kernelspec": {
   "display_name": "Python 3.7.9 ('DLGSproject': venv)",
   "language": "python",
   "name": "python3"
  },
  "language_info": {
   "codemirror_mode": {
    "name": "ipython",
    "version": 3
   },
   "file_extension": ".py",
   "mimetype": "text/x-python",
   "name": "python",
   "nbconvert_exporter": "python",
   "pygments_lexer": "ipython3",
   "version": "3.7.9"
  },
  "orig_nbformat": 4,
  "vscode": {
   "interpreter": {
    "hash": "04aa4936bd3c5ea971897fa7a9eb858c1bf545cdb5b656a168af9d1fbe9e0a97"
   }
  }
 },
 "nbformat": 4,
 "nbformat_minor": 2
}
